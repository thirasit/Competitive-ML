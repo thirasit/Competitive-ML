{
 "cells": [
  {
   "cell_type": "code",
   "execution_count": 1,
   "id": "c42574e9-b23b-43fb-9852-36c449ac734e",
   "metadata": {},
   "outputs": [
    {
     "name": "stderr",
     "output_type": "stream",
     "text": [
      "<frozen importlib._bootstrap>:219: RuntimeWarning: scipy._lib.messagestream.MessageStream size changed, may indicate binary incompatibility. Expected 56 from C header, got 64 from PyObject\n"
     ]
    }
   ],
   "source": [
    "import numpy as np\n",
    "from sklearn.datasets import make_regression\n",
    "from sklearn.linear_model import LinearRegression\n",
    "\n",
    "n_samples, n_features = 1000, 20\n",
    "rng = np.random.RandomState(0)\n",
    "X, y = make_regression(n_samples, n_features, noise=1.0, random_state=rng)\n",
    "\n",
    "y_positive = y - np.min(y)\n",
    "lm = LinearRegression().fit(X, y_positive)\n",
    "rlm = LinearRegression().fit(X, np.sqrt(y_positive))\n",
    "mmlm = LinearRegression().fit(X, y_positive / np.max(y_positive))\n",
    "stlm = LinearRegression().fit(X, y_positive - np.mean(y_positive) / np.std(y_positive))"
   ]
  },
  {
   "cell_type": "code",
   "execution_count": 2,
   "id": "52a1f564-3189-4a52-8169-0a3d316c93c2",
   "metadata": {},
   "outputs": [
    {
     "data": {
      "text/plain": [
       "(0.9999782533853913,\n",
       " 0.9713400828419546,\n",
       " 0.9999782533853913,\n",
       " 0.9999782533853913)"
      ]
     },
     "execution_count": 2,
     "metadata": {},
     "output_type": "execute_result"
    }
   ],
   "source": [
    "(lm.score(X, y_positive), \n",
    " rlm.score(X, np.sqrt(y_positive)), \n",
    " mmlm.score(X, y_positive / np.max(y_positive)),\n",
    " stlm.score(X, y_positive - np.mean(y_positive) / np.std(y_positive))\n",
    ")"
   ]
  },
  {
   "cell_type": "code",
   "execution_count": null,
   "id": "b0d9cba5-3d0a-4c4b-8aa6-d6efe1606e28",
   "metadata": {},
   "outputs": [],
   "source": []
  }
 ],
 "metadata": {
  "kernelspec": {
   "display_name": "Qiskit v0.35.0 (ipykernel)",
   "language": "python",
   "name": "python3"
  },
  "language_info": {
   "codemirror_mode": {
    "name": "ipython",
    "version": 3
   },
   "file_extension": ".py",
   "mimetype": "text/x-python",
   "name": "python",
   "nbconvert_exporter": "python",
   "pygments_lexer": "ipython3",
   "version": "3.8.13"
  },
  "widgets": {
   "application/vnd.jupyter.widget-state+json": {
    "state": {},
    "version_major": 2,
    "version_minor": 0
   }
  }
 },
 "nbformat": 4,
 "nbformat_minor": 5
}

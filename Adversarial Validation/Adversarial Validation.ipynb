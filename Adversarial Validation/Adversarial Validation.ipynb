{
 "cells": [
  {
   "cell_type": "markdown",
   "id": "c6d80e29-96fe-40c9-aa23-c44336493b36",
   "metadata": {},
   "source": [
    "# **Adversarial Validation**"
   ]
  },
  {
   "cell_type": "markdown",
   "id": "1da529f6-b2c8-4b6a-b1e2-0a077d22e087",
   "metadata": {},
   "source": [
    "Tabular Playground Series - Jan 2021\n",
    "Practice your ML regression skills on this approachable dataset!\n",
    "https://www.kaggle.com/competitions/tabular-playground-series-jan-2021/data"
   ]
  },
  {
   "cell_type": "code",
   "execution_count": 1,
   "id": "42c6dba1-36fd-4a0b-bd09-f8adc2b41b87",
   "metadata": {},
   "outputs": [
    {
     "name": "stderr",
     "output_type": "stream",
     "text": [
      "<frozen importlib._bootstrap>:219: RuntimeWarning: scipy._lib.messagestream.MessageStream size changed, may indicate binary incompatibility. Expected 56 from C header, got 64 from PyObject\n"
     ]
    }
   ],
   "source": [
    "import numpy as np \n",
    "import pandas as pd\n",
    "from sklearn.ensemble import RandomForestClassifier\n",
    "from sklearn.model_selection import cross_val_predict\n",
    "from sklearn.metrics import roc_auc_score"
   ]
  },
  {
   "cell_type": "code",
   "execution_count": 2,
   "id": "3a86a5dc-03c8-4b8b-a2b2-caac5c426df5",
   "metadata": {},
   "outputs": [],
   "source": [
    "train = pd.read_csv(\"tabular-playground-series-jan-2021/train.csv\")\n",
    "test = pd.read_csv(\"tabular-playground-series-jan-2021/test.csv\")"
   ]
  },
  {
   "cell_type": "code",
   "execution_count": 3,
   "id": "51eabd13-8008-478c-a322-ffcffb2c9564",
   "metadata": {},
   "outputs": [],
   "source": [
    "train = train.fillna(-1).drop([\"id\", \"target\"], axis=1)\n",
    "test = test.fillna(-1).drop([\"id\"], axis=1)"
   ]
  },
  {
   "cell_type": "code",
   "execution_count": 4,
   "id": "70c508c8-6c33-43db-98ed-73cae54b088f",
   "metadata": {},
   "outputs": [],
   "source": [
    "X = train.append(test)\n",
    "y = [0] * len(train) + [1] * len(test)"
   ]
  },
  {
   "cell_type": "code",
   "execution_count": 5,
   "id": "958f1dd0-b790-4f42-9a50-975fbfd75032",
   "metadata": {},
   "outputs": [],
   "source": [
    "model = RandomForestClassifier()\n",
    "cv_preds = cross_val_predict(model, X, y, cv=5, n_jobs=-1, method='predict_proba')"
   ]
  },
  {
   "cell_type": "code",
   "execution_count": 6,
   "id": "eab9a1f6-9aca-4124-a6e6-981b1260dd9c",
   "metadata": {},
   "outputs": [
    {
     "name": "stdout",
     "output_type": "stream",
     "text": [
      "0.49868316244166666\n"
     ]
    }
   ],
   "source": [
    "print(roc_auc_score(y_true=y, y_score=cv_preds[:,1]))"
   ]
  },
  {
   "cell_type": "code",
   "execution_count": 7,
   "id": "34150a7a-dddf-4af2-ab29-abd32e2b9cbd",
   "metadata": {},
   "outputs": [
    {
     "name": "stdout",
     "output_type": "stream",
     "text": [
      "24771\n"
     ]
    }
   ],
   "source": [
    "print(np.sum(cv_preds[:len(X), 1] > 0.5))"
   ]
  },
  {
   "cell_type": "code",
   "execution_count": 8,
   "id": "0977b049-f4d2-4d74-b161-2459198fc2b1",
   "metadata": {},
   "outputs": [
    {
     "name": "stderr",
     "output_type": "stream",
     "text": [
      "<frozen importlib._bootstrap>:219: RuntimeWarning: scipy._lib.messagestream.MessageStream size changed, may indicate binary incompatibility. Expected 56 from C header, got 64 from PyObject\n",
      "<frozen importlib._bootstrap>:219: RuntimeWarning: scipy._lib.messagestream.MessageStream size changed, may indicate binary incompatibility. Expected 56 from C header, got 64 from PyObject\n",
      "<frozen importlib._bootstrap>:219: RuntimeWarning: scipy._lib.messagestream.MessageStream size changed, may indicate binary incompatibility. Expected 56 from C header, got 64 from PyObject\n",
      "<frozen importlib._bootstrap>:219: RuntimeWarning: scipy._lib.messagestream.MessageStream size changed, may indicate binary incompatibility. Expected 56 from C header, got 64 from PyObject\n",
      "<frozen importlib._bootstrap>:219: RuntimeWarning: scipy._lib.messagestream.MessageStream size changed, may indicate binary incompatibility. Expected 56 from C header, got 64 from PyObject\n"
     ]
    },
    {
     "data": {
      "text/plain": [
       "RandomForestClassifier()"
      ]
     },
     "execution_count": 8,
     "metadata": {},
     "output_type": "execute_result"
    }
   ],
   "source": [
    "model.fit(X, y)"
   ]
  },
  {
   "cell_type": "code",
   "execution_count": 9,
   "id": "cdbf2a97-9094-418b-a7ee-fb2189dc0cb2",
   "metadata": {},
   "outputs": [
    {
     "name": "stdout",
     "output_type": "stream",
     "text": [
      "cont14     : 0.0723\n",
      "cont2      : 0.0719\n",
      "cont7      : 0.0717\n",
      "cont4      : 0.0716\n",
      "cont5      : 0.0716\n",
      "cont8      : 0.0716\n",
      "cont3      : 0.0715\n",
      "cont13     : 0.0714\n",
      "cont1      : 0.0713\n",
      "cont10     : 0.0711\n",
      "cont11     : 0.0711\n",
      "cont9      : 0.0710\n",
      "cont12     : 0.0710\n",
      "cont6      : 0.0709\n"
     ]
    }
   ],
   "source": [
    "ranks = sorted(list(zip(X.columns, model.feature_importances_)), \n",
    "               key=lambda x: x[1], reverse=True)\n",
    "\n",
    "for feature, score in ranks:\n",
    "    print(f\"{feature:10} : {score:0.4f}\")"
   ]
  }
 ],
 "metadata": {
  "kernelspec": {
   "display_name": "Qiskit v0.35.0 (ipykernel)",
   "language": "python",
   "name": "python3"
  },
  "language_info": {
   "codemirror_mode": {
    "name": "ipython",
    "version": 3
   },
   "file_extension": ".py",
   "mimetype": "text/x-python",
   "name": "python",
   "nbconvert_exporter": "python",
   "pygments_lexer": "ipython3",
   "version": "3.8.13"
  },
  "widgets": {
   "application/vnd.jupyter.widget-state+json": {
    "state": {},
    "version_major": 2,
    "version_minor": 0
   }
  }
 },
 "nbformat": 4,
 "nbformat_minor": 5
}
